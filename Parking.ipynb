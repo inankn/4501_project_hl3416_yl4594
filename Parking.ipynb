{
 "cells": [
  {
   "cell_type": "code",
   "execution_count": 10,
   "metadata": {},
   "outputs": [
    {
     "name": "stderr",
     "output_type": "stream",
     "text": [
      "C:\\Users\\Feynman\\AppData\\Local\\Continuum\\anaconda3\\lib\\site-packages\\IPython\\core\\interactiveshell.py:2785: DtypeWarning: Columns (20,31,32) have mixed types. Specify dtype option on import or set low_memory=False.\n",
      "  interactivity=interactivity, compiler=compiler, result=result)\n"
     ]
    }
   ],
   "source": [
    "import pandas as pd\n",
    "\n",
    "df1 = pd.read_csv(\"311_Service_Requests_2020.csv\")\n",
    "parking1 = df1[df1[\"Complaint Type\"]=='Illegal Parking']\n",
    "parking_number1 = parking1.shape[0]\n",
    "all_number1 = df1.shape[0]\n",
    "ratio1 = parking_number1/all_number1\n",
    "\n",
    "df2 = df1[df1[\"Incident Zip\"]==10025.0]\n",
    "parking2 = df2[df2[\"Complaint Type\"]=='Illegal Parking']\n",
    "parking_number2 = parking2.shape[0]\n",
    "all_number2 = df2.shape[0]\n",
    "ratio2 = parking_number2/all_number2\n",
    "\n",
    "if ratio1>=ratio2:\n",
    "    higher_parking_proportion = False\n",
    "else:\n",
    "    higher_parking_proportion = True"
   ]
  },
  {
   "cell_type": "code",
   "execution_count": null,
   "metadata": {},
   "outputs": [],
   "source": []
  }
 ],
 "metadata": {
  "interpreter": {
   "hash": "c54789f804c5b88afd0564db10a8cf7942816c9d9f153217e42ee4062f7cce00"
  },
  "kernelspec": {
   "display_name": "Python 3.8.8 64-bit ('base': conda)",
   "language": "python",
   "name": "python3"
  },
  "language_info": {
   "codemirror_mode": {
    "name": "ipython",
    "version": 3
   },
   "file_extension": ".py",
   "mimetype": "text/x-python",
   "name": "python",
   "nbconvert_exporter": "python",
   "pygments_lexer": "ipython3",
   "version": "3.7.0"
  },
  "orig_nbformat": 4
 },
 "nbformat": 4,
 "nbformat_minor": 2
}
