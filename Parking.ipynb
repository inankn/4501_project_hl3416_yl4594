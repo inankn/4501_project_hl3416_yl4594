{
 "cells": [
  {
   "cell_type": "code",
   "execution_count": null,
   "metadata": {},
   "outputs": [],
   "source": [
    "import csv\n",
    "with open(\"out.csv\", \"w\") as out:\n",
    "    writer = csv.writer(out)\n",
    "    writer.writerow((\"ID\", \"First\", \"Second\"))\n",
    "    for row in data:\n",
    "        writer.writerow(row)"
   ]
  }
 ],
 "metadata": {
  "language_info": {
   "name": "plaintext"
  },
  "orig_nbformat": 4
 },
 "nbformat": 4,
 "nbformat_minor": 2
}
